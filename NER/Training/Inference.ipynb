{
  "cells": [
    {
      "cell_type": "code",
      "execution_count": 1,
      "metadata": {
        "colab": {
          "base_uri": "https://localhost:8080/"
        },
        "id": "OrpWdz8hfoBp",
        "outputId": "2279e819-ff1d-4108-ce53-c3b06e69a76a"
      },
      "outputs": [
        {
          "name": "stdout",
          "output_type": "stream",
          "text": [
            "Mounted at /content/drive\n"
          ]
        }
      ],
      "source": [
        "from google.colab import drive\n",
        "drive.mount('/content/drive')"
      ]
    },
    {
      "cell_type": "code",
      "execution_count": 2,
      "metadata": {
        "colab": {
          "base_uri": "https://localhost:8080/"
        },
        "id": "19ubxyxWfr9f",
        "outputId": "67687ef6-4a9d-42ba-92d8-54887ddb080e"
      },
      "outputs": [
        {
          "name": "stderr",
          "output_type": "stream",
          "text": [
            "[nltk_data] Downloading package punkt to /root/nltk_data...\n",
            "[nltk_data]   Unzipping tokenizers/punkt.zip.\n"
          ]
        },
        {
          "data": {
            "text/plain": [
              "True"
            ]
          },
          "execution_count": 2,
          "metadata": {},
          "output_type": "execute_result"
        }
      ],
      "source": [
        "# Built in modules\n",
        "import json\n",
        "import os\n",
        "import pickle\n",
        "# Python modules\n",
        "import numpy as np\n",
        "# Machine Learning Frameworks\n",
        "from tensorflow.keras.preprocessing.sequence import pad_sequences\n",
        "import tensorflow as tf\n",
        "import nltk\n",
        "from nltk.tokenize import word_tokenize\n",
        "nltk.download(\"punkt\")"
      ]
    },
    {
      "cell_type": "code",
      "execution_count": 3,
      "metadata": {
        "id": "BlfbaqcserZo"
      },
      "outputs": [],
      "source": [
        "os.chdir('/content/drive/MyDrive/Recipe-NER')\n",
        "model = tf.keras.models.load_model('ner_model_30e.h5')"
      ]
    },
    {
      "cell_type": "code",
      "execution_count": 4,
      "metadata": {
        "id": "pvlyma1UezT1"
      },
      "outputs": [],
      "source": [
        "with open('word2idx.json', 'r') as fcc_file:\n",
        "    word2idx = json.load(fcc_file)\n",
        "with open('tag2idx.json', 'r') as fcc_file:\n",
        "    tag2idx = json.load(fcc_file)\n",
        "with open(\"tags\", \"rb\") as fp:   \n",
        "    tags = pickle.load(fp)"
      ]
    },
    {
      "cell_type": "code",
      "execution_count": 5,
      "metadata": {
        "colab": {
          "base_uri": "https://localhost:8080/"
        },
        "id": "yjEVq6B5hLim",
        "outputId": "81055bad-eb01-4cce-cd2f-2bd7c3a18a0a"
      },
      "outputs": [
        {
          "name": "stdout",
          "output_type": "stream",
          "text": [
            "['In', 'a', 'separate', 'small', 'bowl', 'make', 'the', 'dressing', 'for', 'the', 'slaw', 'Stir', 'together', 'the', 'mayonnaise', 'honey', 'Dijon', 'vinegar', 'salt', 'and', 'pepper', 'until', 'smooth', 'Add', 'the', 'dressing', 'to', 'the', 'bowl', 'with', 'the', 'slaw', 'mix', 'and', 'green', 'onions', 'then', 'stir', 'to', 'combine', 'To', 'make', 'the', 'sliders', 'add', 'a', 'heaping', '12', 'cup', 'of', 'BBQ', 'beans', 'to', 'each', 'bun', 'then', 'top', 'with', '12', 'cup', 'of', 'the', 'slaw', 'Enjoy', 'Dice', 'the', 'onion', 'and', 'mince', 'the', 'garlic', 'Add', 'the', 'onion', 'garlic', 'and', 'olive', 'oil', 'to', 'a', 'large', 'skillet', 'and', 'cook', 'over', 'medium', 'heat', 'until', 'the', 'onion', 'is', 'soft', 'and', 'translucent', 'about', '5', 'minutes', 'Rinse', 'and', 'drain', 'the', 'pinto', 'and', 'black', 'beans', 'in', 'a', 'colander', 'Add', 'the', 'drained', 'beans', 'BBQ', 'sauce', 'and', 'smoked', 'paprika', 'to', 'the', 'skillet', 'with', 'the', 'onions', 'and', 'garlic', 'Stir', 'to', 'combine', 'and', 'then', 'cook', 'over', 'medium-low', 'heat', 'until', 'warmed', 'through', 'stir', 'occasionally', 'While', 'the', 'beans', 'and', 'BBQ', 'sauce', 'are', 'heating', 'prepare', 'the', 'creamy', 'coleslaw', 'Add', 'the', 'cabbage', 'coleslaw', 'mix', 'to', 'a', 'large', 'bowl', 'Slice', 'the', 'green', 'onions', 'and', 'add', 'them', 'to', 'the', 'bowl', 'with', 'the', 'cabbage']\n"
          ]
        }
      ],
      "source": [
        "# Place what you want to test in text\n",
        "text = \"In a separate small bowl make the dressing for the slaw Stir together the mayonnaise honey Dijon vinegar salt and pepper until smooth Add the dressing to the bowl with the slaw mix and green onions then stir to combine To make the sliders add a heaping 12 cup of BBQ beans to each bun then top with 12 cup of the slaw Enjoy Dice the onion and mince the garlic Add the onion garlic and olive oil to a large skillet and cook over medium heat until the onion is soft and translucent about 5 minutes Rinse and drain the pinto and black beans in a colander Add the drained beans BBQ sauce and smoked paprika to the skillet with the onions and garlic Stir to combine and then cook over medium-low heat until warmed through stir occasionally While the beans and BBQ sauce are heating prepare the creamy coleslaw Add the cabbage coleslaw mix to a large bowl Slice the green onions and add them to the bowl with the cabbage\"\n",
        "test = word_tokenize(text)\n",
        "print(test)"
      ]
    },
    {
      "cell_type": "code",
      "execution_count": 6,
      "metadata": {
        "id": "YrrlMua_iPKj"
      },
      "outputs": [],
      "source": [
        "\n",
        "# Same value as the one used in training\n",
        "max_len = 900\n",
        "preprocessed_text = pad_sequences(sequences=[[word2idx.get(w, 0) for w in test]], \n",
        "                            padding=\"post\", value=0, maxlen=max_len)"
      ]
    },
    {
      "cell_type": "code",
      "execution_count": 7,
      "metadata": {
        "colab": {
          "base_uri": "https://localhost:8080/"
        },
        "id": "H4Nst-4DeuQm",
        "outputId": "44610650-66f5-4531-8853-ca0694747503"
      },
      "outputs": [
        {
          "name": "stdout",
          "output_type": "stream",
          "text": [
            "1/1 [==============================] - 6s 6s/step\n",
            "Word           ||Prediction\n",
            "==============================\n",
            "In             : O    \n",
            "a              : O    \n",
            "separate       : O    \n",
            "small          : O    \n",
            "bowl           : B-CO \n",
            "make           : O    \n",
            "the            : O    \n",
            "dressing       : O    \n",
            "for            : O    \n",
            "the            : O    \n",
            "slaw           : O    \n",
            "Stir           : O    \n",
            "together       : O    \n",
            "the            : O    \n",
            "mayonnaise     : B-IN \n",
            "honey          : B-IN \n",
            "Dijon          : B-IN \n",
            "vinegar        : I-IN \n",
            "salt           : B-IN \n",
            "and            : O    \n",
            "pepper         : B-IN \n",
            "until          : O    \n",
            "smooth         : O    \n",
            "Add            : O    \n",
            "the            : O    \n",
            "dressing       : O    \n",
            "to             : O    \n",
            "the            : O    \n",
            "bowl           : O    \n",
            "with           : O    \n",
            "the            : O    \n",
            "slaw           : O    \n",
            "mix            : O    \n",
            "and            : O    \n",
            "green          : B-IN \n",
            "onions         : I-IN \n",
            "then           : O    \n",
            "stir           : O    \n",
            "to             : O    \n",
            "combine        : O    \n",
            "To             : O    \n",
            "make           : O    \n",
            "the            : O    \n",
            "sliders        : O    \n",
            "add            : O    \n",
            "a              : O    \n",
            "heaping        : O    \n",
            "12             : B-ME \n",
            "cup            : I-IN \n",
            "of             : O    \n",
            "BBQ            : B-IN \n",
            "beans          : I-IN \n",
            "to             : O    \n",
            "each           : O    \n",
            "bun            : O    \n",
            "then           : O    \n",
            "top            : O    \n",
            "with           : O    \n",
            "12             : O    \n",
            "cup            : I-ME \n",
            "of             : O    \n",
            "the            : O    \n",
            "slaw           : O    \n",
            "Enjoy          : O    \n",
            "Dice           : O    \n",
            "the            : O    \n",
            "onion          : O    \n",
            "and            : O    \n",
            "mince          : O    \n",
            "the            : O    \n",
            "garlic         : B-IN \n",
            "Add            : O    \n",
            "the            : O    \n",
            "onion          : B-IN \n",
            "garlic         : B-IN \n",
            "and            : O    \n",
            "olive          : B-IN \n",
            "oil            : I-IN \n",
            "to             : O    \n",
            "a              : O    \n",
            "large          : O    \n",
            "skillet        : B-CO \n",
            "and            : O    \n",
            "cook           : O    \n",
            "over           : O    \n",
            "medium         : O    \n",
            "heat           : O    \n",
            "until          : O    \n",
            "the            : O    \n",
            "onion          : B-IN \n",
            "is             : O    \n",
            "soft           : O    \n",
            "and            : O    \n",
            "translucent    : O    \n",
            "about          : O    \n",
            "5              : B-TI \n",
            "minutes        : I-TI \n",
            "Rinse          : O    \n",
            "and            : O    \n",
            "drain          : O    \n",
            "the            : O    \n",
            "pinto          : B-IN \n",
            "and            : O    \n",
            "black          : B-IN \n",
            "beans          : I-IN \n",
            "in             : O    \n",
            "a              : O    \n",
            "colander       : B-CO \n",
            "Add            : O    \n",
            "the            : O    \n",
            "drained        : O    \n",
            "beans          : B-IN \n",
            "BBQ            : B-IN \n",
            "sauce          : I-IN \n",
            "and            : O    \n",
            "smoked         : O    \n",
            "paprika        : B-IN \n",
            "to             : O    \n",
            "the            : O    \n",
            "skillet        : B-CO \n",
            "with           : O    \n",
            "the            : O    \n",
            "onions         : B-IN \n",
            "and            : O    \n",
            "garlic         : B-IN \n",
            "Stir           : O    \n",
            "to             : O    \n",
            "combine        : O    \n",
            "and            : O    \n",
            "then           : O    \n",
            "cook           : O    \n",
            "over           : O    \n",
            "medium-low     : O    \n",
            "heat           : O    \n",
            "until          : O    \n",
            "warmed         : O    \n",
            "through        : O    \n",
            "stir           : O    \n",
            "occasionally   : O    \n",
            "While          : O    \n",
            "the            : O    \n",
            "beans          : B-IN \n",
            "and            : O    \n",
            "BBQ            : B-IN \n",
            "sauce          : I-IN \n",
            "are            : O    \n",
            "heating        : O    \n",
            "prepare        : O    \n",
            "the            : O    \n",
            "creamy         : O    \n",
            "coleslaw       : O    \n",
            "Add            : O    \n",
            "the            : O    \n",
            "cabbage        : B-IN \n",
            "coleslaw       : O    \n",
            "mix            : O    \n",
            "to             : O    \n",
            "a              : O    \n",
            "large          : O    \n",
            "bowl           : O    \n",
            "Slice          : O    \n",
            "the            : O    \n",
            "green          : O    \n",
            "onions         : B-IN \n",
            "and            : O    \n",
            "add            : O    \n",
            "them           : O    \n",
            "to             : O    \n",
            "the            : O    \n",
            "bowl           : B-CO \n",
            "with           : O    \n",
            "the            : O    \n",
            "cabbage        : B-IN \n"
          ]
        }
      ],
      "source": [
        "p = model.predict(np.array([preprocessed_text[0]]))\n",
        "p = np.argmax(p, axis=-1)\n",
        "print(\"{:15}||{}\".format(\"Word\", \"Prediction\"))\n",
        "print(30 * \"=\")\n",
        "for w, pred in zip(test, p[0]):\n",
        "    print(\"{:15}: {:5}\".format(w, tags[pred]))"
      ]
    }
  ],
  "metadata": {
    "colab": {
      "provenance": []
    },
    "gpuClass": "standard",
    "kernelspec": {
      "display_name": "Python 3",
      "name": "python3"
    },
    "language_info": {
      "name": "python"
    }
  },
  "nbformat": 4,
  "nbformat_minor": 0
}
