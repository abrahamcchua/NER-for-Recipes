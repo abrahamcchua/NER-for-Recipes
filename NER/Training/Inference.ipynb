{
  "nbformat": 4,
  "nbformat_minor": 0,
  "metadata": {
    "colab": {
      "provenance": [],
      "toc_visible": true
    },
    "kernelspec": {
      "name": "python3",
      "display_name": "Python 3"
    },
    "language_info": {
      "name": "python"
    },
    "gpuClass": "standard"
  },
  "cells": [
    {
      "cell_type": "code",
      "source": [
        "from google.colab import drive\n",
        "drive.mount('/content/drive')"
      ],
      "metadata": {
        "colab": {
          "base_uri": "https://localhost:8080/"
        },
        "id": "OrpWdz8hfoBp",
        "outputId": "2e36c4ac-02f3-4f49-ccaf-f9b2dda3ab43"
      },
      "execution_count": 1,
      "outputs": [
        {
          "output_type": "stream",
          "name": "stdout",
          "text": [
            "Mounted at /content/drive\n"
          ]
        }
      ]
    },
    {
      "cell_type": "code",
      "source": [
        "# Built in modules\n",
        "import json\n",
        "import os\n",
        "import pickle\n",
        "import string\n",
        "# Python modules\n",
        "import numpy as np\n",
        "# Machine Learning Frameworks\n",
        "from tensorflow.keras.preprocessing.sequence import pad_sequences\n",
        "import tensorflow as tf\n",
        "import nltk\n",
        "from nltk.tokenize import word_tokenize\n",
        "nltk.download(\"punkt\")"
      ],
      "metadata": {
        "colab": {
          "base_uri": "https://localhost:8080/"
        },
        "id": "19ubxyxWfr9f",
        "outputId": "e6652466-183a-4a4b-9972-01c445097573"
      },
      "execution_count": 2,
      "outputs": [
        {
          "output_type": "stream",
          "name": "stderr",
          "text": [
            "[nltk_data] Downloading package punkt to /root/nltk_data...\n",
            "[nltk_data]   Unzipping tokenizers/punkt.zip.\n"
          ]
        },
        {
          "output_type": "execute_result",
          "data": {
            "text/plain": [
              "True"
            ]
          },
          "metadata": {},
          "execution_count": 2
        }
      ]
    },
    {
      "cell_type": "code",
      "execution_count": 3,
      "metadata": {
        "id": "BlfbaqcserZo"
      },
      "outputs": [],
      "source": [
        "# Change directory to location of the model\n",
        "os.chdir('/content/drive/MyDrive/Recipe-NER')\n",
        "# Load the trained model\n",
        "model = tf.keras.models.load_model('ner_model_20e.h5')"
      ]
    },
    {
      "cell_type": "markdown",
      "source": [
        "It is crucial to use the same dictionaries and lists used in training the NER model, since it will provide the mapping to the different classes."
      ],
      "metadata": {
        "id": "be41Q6CrBqxs"
      }
    },
    {
      "cell_type": "code",
      "source": [
        "with open('word2idx.json', 'r') as fcc_file:\n",
        "    word2idx = json.load(fcc_file)\n",
        "with open('tag2idx.json', 'r') as fcc_file:\n",
        "    tag2idx = json.load(fcc_file)\n",
        "with open(\"tags\", \"rb\") as fp:   \n",
        "    tags = pickle.load(fp)"
      ],
      "metadata": {
        "id": "pvlyma1UezT1"
      },
      "execution_count": 4,
      "outputs": []
    },
    {
      "cell_type": "code",
      "source": [
        "def preprocess(instruction):\n",
        "  #  Main highlight of function \"preprocessed\"\n",
        "  #  Summary:\n",
        "  #  This function returns a preprocessed lowercased string that has all of the punctuations, removed except for \"-\" \n",
        "  #  output of the function:\n",
        "  #  -String\n",
        "  punctuations_to_be_removed = string.punctuation.replace('-', '')\n",
        "  return instruction.translate(str.maketrans('', '', punctuations_to_be_removed)).lower()\n"
      ],
      "metadata": {
        "id": "8_-Hiowrwzhw"
      },
      "execution_count": 5,
      "outputs": []
    },
    {
      "cell_type": "markdown",
      "source": [
        "Text used for this inference is from https://www.tasteofhome.com/recipes/bacon-cheeseburger-pasta/"
      ],
      "metadata": {
        "id": "np_AUakOrcxy"
      }
    },
    {
      "cell_type": "code",
      "source": [
        "text = \"\"\"Cook pasta according to package directions. Meanwhile, in a large skillet, cook beef over medium heat until no longer pink; drain and set aside.\n",
        "    In the same skillet, cook bacon until crisp; remove with a slotted spoon to paper towels to drain. Discard drippings. Drain pasta; add to the skillet. Stir in the soup, water, beef and bacon; heat through.\n",
        "    Remove from the heat and sprinkle with cheese. Cover and let stand for 2-3 minutes or until the cheese is melted. Serve with barbecue sauce and mustard if desired. \"\"\"\n",
        "test = word_tokenize(preprocess(text))\n",
        "print(test)"
      ],
      "metadata": {
        "colab": {
          "base_uri": "https://localhost:8080/"
        },
        "id": "yjEVq6B5hLim",
        "outputId": "b8bf84ad-9e11-4356-8d82-2e3ab8a65683"
      },
      "execution_count": 6,
      "outputs": [
        {
          "output_type": "stream",
          "name": "stdout",
          "text": [
            "['cook', 'pasta', 'according', 'to', 'package', 'directions', 'meanwhile', 'in', 'a', 'large', 'skillet', 'cook', 'beef', 'over', 'medium', 'heat', 'until', 'no', 'longer', 'pink', 'drain', 'and', 'set', 'aside', 'in', 'the', 'same', 'skillet', 'cook', 'bacon', 'until', 'crisp', 'remove', 'with', 'a', 'slotted', 'spoon', 'to', 'paper', 'towels', 'to', 'drain', 'discard', 'drippings', 'drain', 'pasta', 'add', 'to', 'the', 'skillet', 'stir', 'in', 'the', 'soup', 'water', 'beef', 'and', 'bacon', 'heat', 'through', 'remove', 'from', 'the', 'heat', 'and', 'sprinkle', 'with', 'cheese', 'cover', 'and', 'let', 'stand', 'for', '2-3', 'minutes', 'or', 'until', 'the', 'cheese', 'is', 'melted', 'serve', 'with', 'barbecue', 'sauce', 'and', 'mustard', 'if', 'desired']\n"
          ]
        }
      ]
    },
    {
      "cell_type": "code",
      "source": [
        "# max_len should have the same value as the one used in training\n",
        "max_len = 900\n",
        "# Use pad_sequence preprocessing to convert values to the same ones used in training the model\n",
        "preprocessed_text = pad_sequences(sequences=[[word2idx.get(w, 0) for w in test]], \n",
        "                            padding=\"post\", value=0, maxlen=max_len)"
      ],
      "metadata": {
        "id": "YrrlMua_iPKj"
      },
      "execution_count": 7,
      "outputs": []
    },
    {
      "cell_type": "code",
      "source": [
        "# p stands for the probabilities predicted by the model on the input text\n",
        "p = model.predict(np.array([preprocessed_text[0]]))\n",
        "# Returns an array of the classes with the max probabilities of the prediction\n",
        "p = np.argmax(p, axis=-1)\n",
        "print(\"{:15}||{}\".format(\"Word\", \"Prediction\"))\n",
        "print(30 * \"=\")\n",
        "for w, pred in zip(test, p[0]):\n",
        "  # Print the words in a specific format\n",
        "  print(\"{:15}: {:5}\".format(w, tags[pred]))"
      ],
      "metadata": {
        "colab": {
          "base_uri": "https://localhost:8080/"
        },
        "id": "H4Nst-4DeuQm",
        "outputId": "98e6668e-4b1e-4984-8321-2807dcb85a4b"
      },
      "execution_count": 8,
      "outputs": [
        {
          "output_type": "stream",
          "name": "stdout",
          "text": [
            "1/1 [==============================] - 8s 8s/step\n",
            "Word           ||Prediction\n",
            "==============================\n",
            "cook           : O    \n",
            "pasta          : B-IN \n",
            "according      : O    \n",
            "to             : O    \n",
            "package        : O    \n",
            "directions     : O    \n",
            "meanwhile      : O    \n",
            "in             : O    \n",
            "a              : O    \n",
            "large          : O    \n",
            "skillet        : B-CO \n",
            "cook           : O    \n",
            "beef           : B-IN \n",
            "over           : O    \n",
            "medium         : O    \n",
            "heat           : O    \n",
            "until          : O    \n",
            "no             : O    \n",
            "longer         : O    \n",
            "pink           : O    \n",
            "drain          : O    \n",
            "and            : O    \n",
            "set            : O    \n",
            "aside          : O    \n",
            "in             : O    \n",
            "the            : O    \n",
            "same           : O    \n",
            "skillet        : B-CO \n",
            "cook           : O    \n",
            "bacon          : B-IN \n",
            "until          : O    \n",
            "crisp          : O    \n",
            "remove         : O    \n",
            "with           : O    \n",
            "a              : O    \n",
            "slotted        : B-CO \n",
            "spoon          : I-CO \n",
            "to             : O    \n",
            "paper          : B-ME \n",
            "towels         : I-CO \n",
            "to             : O    \n",
            "drain          : O    \n",
            "discard        : O    \n",
            "drippings      : O    \n",
            "drain          : O    \n",
            "pasta          : O    \n",
            "add            : O    \n",
            "to             : O    \n",
            "the            : O    \n",
            "skillet        : B-CO \n",
            "stir           : O    \n",
            "in             : O    \n",
            "the            : O    \n",
            "soup           : O    \n",
            "water          : B-IN \n",
            "beef           : I-IN \n",
            "and            : O    \n",
            "bacon          : B-IN \n",
            "heat           : O    \n",
            "through        : O    \n",
            "remove         : O    \n",
            "from           : O    \n",
            "the            : O    \n",
            "heat           : O    \n",
            "and            : O    \n",
            "sprinkle       : O    \n",
            "with           : O    \n",
            "cheese         : B-IN \n",
            "cover          : O    \n",
            "and            : O    \n",
            "let            : O    \n",
            "stand          : O    \n",
            "for            : O    \n",
            "2-3            : B-TI \n",
            "minutes        : I-TI \n",
            "or             : O    \n",
            "until          : O    \n",
            "the            : O    \n",
            "cheese         : B-IN \n",
            "is             : O    \n",
            "melted         : O    \n",
            "serve          : O    \n",
            "with           : O    \n",
            "barbecue       : O    \n",
            "sauce          : O    \n",
            "and            : O    \n",
            "mustard        : B-IN \n",
            "if             : O    \n",
            "desired        : O    \n"
          ]
        }
      ]
    }
  ]
}